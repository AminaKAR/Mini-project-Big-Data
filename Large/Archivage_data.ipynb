{
 "cells": [
  {
   "cell_type": "markdown",
   "metadata": {},
   "source": [
    "# Importation bibliothéques + fonctions from functions.py "
   ]
  },
  {
   "cell_type": "code",
   "execution_count": 3,
   "metadata": {},
   "outputs": [
    {
     "ename": "ModuleNotFoundError",
     "evalue": "No module named 'Mini_Projet_BDA'",
     "output_type": "error",
     "traceback": [
      "\u001b[1;31m---------------------------------------------------------------------------\u001b[0m",
      "\u001b[1;31mModuleNotFoundError\u001b[0m                       Traceback (most recent call last)",
      "\u001b[1;32m<ipython-input-3-b25be737c5d4>\u001b[0m in \u001b[0;36m<module>\u001b[1;34m\u001b[0m\n\u001b[0;32m      4\u001b[0m \u001b[1;32mimport\u001b[0m \u001b[0mjson\u001b[0m\u001b[1;33m\u001b[0m\u001b[1;33m\u001b[0m\u001b[0m\n\u001b[0;32m      5\u001b[0m \u001b[1;32mimport\u001b[0m \u001b[0mtime\u001b[0m\u001b[1;33m\u001b[0m\u001b[1;33m\u001b[0m\u001b[0m\n\u001b[1;32m----> 6\u001b[1;33m \u001b[1;32mfrom\u001b[0m \u001b[0mMini_Projet_BDA\u001b[0m\u001b[1;33m.\u001b[0m\u001b[0mfunctions\u001b[0m \u001b[1;32mimport\u001b[0m \u001b[0mindentify_turtle\u001b[0m\u001b[1;33m,\u001b[0m \u001b[0mregular\u001b[0m\u001b[1;33m,\u001b[0m \u001b[0mdistraite\u001b[0m\u001b[1;33m,\u001b[0m \u001b[0mtired\u001b[0m\u001b[1;33m,\u001b[0m \u001b[0mget_indices\u001b[0m\u001b[1;33m,\u001b[0m \u001b[0mcyclic\u001b[0m\u001b[1;33m\u001b[0m\u001b[1;33m\u001b[0m\u001b[0m\n\u001b[0m",
      "\u001b[1;31mModuleNotFoundError\u001b[0m: No module named 'Mini_Projet_BDA'"
     ]
    }
   ],
   "source": [
    "import urllib.request\n",
    "import pandas as pd\n",
    "import numpy as np\n",
    "import json\n",
    "import time\n",
    "from Mini_Projet_BDA.functions import indentify_turtle, regular, distraite, tired, get_indices, cyclic"
   ]
  },
  {
   "cell_type": "markdown",
   "metadata": {},
   "source": [
    "# Archivage Data"
   ]
  },
  {
   "cell_type": "code",
   "execution_count": null,
   "metadata": {},
   "outputs": [],
   "source": [
    "url=\"http://tortues.ecoquery.os.univ-lyon1.fr:8080/large\"\n",
    "output_file=\"tortoises_large\""
   ]
  },
  {
   "cell_type": "code",
   "execution_count": null,
   "metadata": {},
   "outputs": [],
   "source": [
    "hours=4\n",
    "minutes=0\n",
    "seconds=0"
   ]
  },
  {
   "cell_type": "code",
   "execution_count": null,
   "metadata": {},
   "outputs": [],
   "source": [
    "\n",
    "def get_data(raw_data):\n",
    "    res=[]\n",
    "    index=raw_data[0]['top']\n",
    "    for i in range(len(raw_data)):\n",
    "        res.append(raw_data[i]['id'])\n",
    "        res.append(raw_data[i]['position'])\n",
    "        res.append(0)\n",
    "    return(index,res)\n",
    "def get_tort_number(json_content):\n",
    "    n=len(json_content['tortoises'])\n",
    "    return n\n",
    "pcontents=''\n",
    "cond=''\n",
    "start_time=time.time()\n",
    "\n",
    "\n",
    "data=[]\n",
    "indices=[]\n",
    "while(True):\n",
    "    contents = urllib.request.urlopen(url).read()\n",
    "    if contents != pcontents:\n",
    "        raw_data=json.loads(contents)\n",
    "        top,row=get_data(raw_data['tortoises'])\n",
    "        indices.append(top)\n",
    "        pcontents=contents\n",
    "        data.append(row)\n",
    "        if time.time() - start_time>(hours*3600+minutes*60+seconds):\n",
    "            break\n",
    "print(\"it all took --- %s seconds ---\" % (time.time() - start_time))\n",
    "n=get_tort_number(raw_data)\n",
    "columns = pd.MultiIndex.from_product([['turtoise '+str(i) for i in range(n)], ['id','position','speed']],\n",
    "                                     names=['tortoises', 'characteristics'])\n",
    "df = pd.DataFrame(data ,index=indices, columns=columns)\n",
    "compression_opts = dict(method='zip',\n",
    "                        archive_name=output_file+'.csv')\n",
    "df.to_csv(output_file+'.zip',\n",
    "          compression=compression_opts)"
   ]
  },
  {
   "cell_type": "code",
   "execution_count": null,
   "metadata": {},
   "outputs": [],
   "source": [
    "df = pd.DataFrame(data ,index=indices, columns=columns)\n"
   ]
  },
  {
   "cell_type": "markdown",
   "metadata": {},
   "source": [
    "# Identify Categories : Prédictions"
   ]
  },
  {
   "cell_type": "code",
   "execution_count": null,
   "metadata": {},
   "outputs": [],
   "source": [
    "for i in range(n):\n",
    "    reg,msg=indentify_turtle(s[i])\n",
    "    print('*'*20)\n",
    "    print(i)\n",
    "    print(msg)\n",
    "    print('*'*20)"
   ]
  }
 ],
 "metadata": {
  "kernelspec": {
   "display_name": "Python 3",
   "language": "python",
   "name": "python3"
  },
  "language_info": {
   "codemirror_mode": {
    "name": "ipython",
    "version": 3
   },
   "file_extension": ".py",
   "mimetype": "text/x-python",
   "name": "python",
   "nbconvert_exporter": "python",
   "pygments_lexer": "ipython3",
   "version": "3.8.5"
  }
 },
 "nbformat": 4,
 "nbformat_minor": 4
}
